{
 "cells": [
  {
   "cell_type": "code",
   "execution_count": 33,
   "id": "43d754e2-bb12-4edd-a8dd-ff30a8ec738e",
   "metadata": {},
   "outputs": [],
   "source": [
    "import pandas as pd \n",
    "import math # use for log function \n",
    "from collections import Counter"
   ]
  },
  {
   "cell_type": "code",
   "execution_count": 35,
   "id": "58e5e93a-8391-4275-b462-7ce4bdb56a15",
   "metadata": {},
   "outputs": [],
   "source": [
    "file_path = \"Processed_Reviews.csv\" \n",
    "df = pd.read_csv(file_path) "
   ]
  },
  {
   "cell_type": "code",
   "execution_count": 37,
   "id": "46b013ab-d1b7-4303-882b-3b24475e9924",
   "metadata": {},
   "outputs": [],
   "source": [
    "tokenized_reviews = df['tokenized'].dropna().apply(eval) "
   ]
  },
  {
   "cell_type": "code",
   "execution_count": 41,
   "id": "3532fb14-d313-4d3f-8e3c-65c24de6d909",
   "metadata": {},
   "outputs": [],
   "source": [
    "def compute_tf(document): \n",
    "    word_count = Counter(document) \n",
    "    tf = {word: count / len(document) for word, count in word_count.items()} \n",
    "    return tf "
   ]
  },
  {
   "cell_type": "code",
   "execution_count": 47,
   "id": "9b35955b-9fcf-4ff1-b405-47eb78041c2f",
   "metadata": {},
   "outputs": [],
   "source": [
    "def compute_idf(documents): \n",
    "    N = len(documents)  # Total number of documents \n",
    "    idf = {} \n",
    "    all_words = set(word for doc in documents for word in doc)  # Unique words \n",
    "    for word in all_words: \n",
    "        count = sum(1 for doc in documents if word in doc) \n",
    "        idf[word] = math.log(N / count) \n",
    "        return idf "
   ]
  },
  {
   "cell_type": "code",
   "execution_count": 55,
   "id": "d9d6ccc5-2d0e-4d6c-81ac-b9ee1bbbedd5",
   "metadata": {},
   "outputs": [],
   "source": [
    "def compute_tfidf(document, idf): \n",
    "    tfidf = {} \n",
    "    tf = compute_tf(document)  # Get TF values for the document \n",
    "    for word, tf_value in tf.items(): \n",
    "        tfidf[word] = tf_value * idf[word]  # Multiply TF and IDF \n",
    "        return tfidf"
   ]
  },
  {
   "cell_type": "code",
   "execution_count": 57,
   "id": "0de139f7-c8a0-4039-8386-9f984142a010",
   "metadata": {},
   "outputs": [],
   "source": [
    "documents = tokenized_reviews.tolist()"
   ]
  },
  {
   "cell_type": "code",
   "execution_count": 59,
   "id": "c2f97b65-e9ab-407f-bf22-e36e3bd9362d",
   "metadata": {},
   "outputs": [],
   "source": [
    "tf_data = [compute_tf(doc) for doc in documents] \n",
    "tf_df = pd.DataFrame(tf_data).fillna(0) \n",
    "tf_df.to_csv(\"tf_scores.csv\", index=False)"
   ]
  },
  {
   "cell_type": "code",
   "execution_count": 61,
   "id": "08649d20-7c17-412c-84cb-bacca9483300",
   "metadata": {},
   "outputs": [],
   "source": [
    "idf = compute_idf(documents) \n",
    "idf_df = pd.DataFrame([idf]).fillna(0) \n",
    "idf_df.to_csv(\"idf_scores.csv\", index=False)"
   ]
  },
  {
   "cell_type": "code",
   "execution_count": 65,
   "id": "dbf3464b-186b-4e74-ba09-afb8a2d55143",
   "metadata": {},
   "outputs": [],
   "source": [
    "def compute_tfidf(document, idf): \n",
    "    tfidf = {}\n",
    "    tf = compute_tf(document)  # Get TF values for the document\n",
    "    for word, tf_value in tf.items():\n",
    "        if word in idf:  # Check if the word exists in the idf dictionary\n",
    "            tfidf[word] = tf_value * idf[word]\n",
    "        else:\n",
    "            tfidf[word] = 0  # Or you can choose to skip the word\n",
    "    return tfidf"
   ]
  },
  {
   "cell_type": "code",
   "execution_count": null,
   "id": "7bf0f393-92fc-415a-a4dc-a441efcfb6c8",
   "metadata": {},
   "outputs": [],
   "source": []
  }
 ],
 "metadata": {
  "kernelspec": {
   "display_name": "Python [conda env:base] *",
   "language": "python",
   "name": "conda-base-py"
  },
  "language_info": {
   "codemirror_mode": {
    "name": "ipython",
    "version": 3
   },
   "file_extension": ".py",
   "mimetype": "text/x-python",
   "name": "python",
   "nbconvert_exporter": "python",
   "pygments_lexer": "ipython3",
   "version": "3.12.7"
  }
 },
 "nbformat": 4,
 "nbformat_minor": 5
}
