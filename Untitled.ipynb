{
 "cells": [
  {
   "cell_type": "code",
   "execution_count": null,
   "id": "4ba5b558-95ce-435c-8208-043ed897de09",
   "metadata": {},
   "outputs": [],
   "source": [
    "# Read the content of the text file with open('sample.txt', 'r', encoding='utf-8') as file: \n",
    "    text_data = file.read() print(\"Raw Text:\\n\", text_data) \n",
    " \n",
    "# Store in another file with open('stored_text.txt', 'w', encoding='utf-8') as file: \n",
    "    file.write(text_data) \n"
   ]
  },
  {
   "cell_type": "code",
   "execution_count": 6,
   "id": "2c393994-eb2c-4870-bdfc-6dc0e6406cec",
   "metadata": {},
   "outputs": [
    {
     "name": "stdout",
     "output_type": "stream",
     "text": [
      "Reviews:\n",
      " 0    The product is amazing!\n",
      "1     Worst experience ever!\n",
      "Name: Review, dtype: object\n"
     ]
    }
   ],
   "source": [
    "import pandas as pd \n",
    " \n",
    "# Read the CSV file \n",
    "df = pd.read_csv('reviews.csv') \n",
    "print(\"Reviews:\\n\", df['Review'].head()) \n",
    " \n",
    "# Save the reviews column to a text file df['Review'].to_csv('stored_reviews.txt', index=False, header=False) \n"
   ]
  },
  {
   "cell_type": "code",
   "execution_count": null,
   "id": "038b64f3-b7eb-4bde-91a1-53b08f071c04",
   "metadata": {},
   "outputs": [],
   "source": [
    "# Read the Excel file df_excel = \n",
    "pd.read_excel('reviews.xlsx', engine='openpyxl') print(\"First two rows:\\n\", df_excel.head(2)) \n",
    " \n",
    "# Save the first two rows to a text file \n",
    "df_excel.head(2).to_csv('extracted_excel.txt', index=False) \n"
   ]
  },
  {
   "cell_type": "code",
   "execution_count": null,
   "id": "1d09d1e3-6ded-4a47-a980-9a1c3cc705be",
   "metadata": {},
   "outputs": [],
   "source": [
    "import json \n",
    " \n",
    "# Read the JSON file with open('social_data.json', 'r', encoding='utf-8') as file: \n",
    "    data = json.load(file) print(\"Extracted City:\", data['city']) \n",
    " \n",
    "# Store the extracted city to a file with open('stored_city.txt', 'w', encoding='utf-8') as file: \n",
    "    file.write(data['city']) \n"
   ]
  },
  {
   "cell_type": "code",
   "execution_count": null,
   "id": "3343f639-c0d1-447d-b610-97906ed5429c",
   "metadata": {},
   "outputs": [],
   "source": [
    "import xml.etree.ElementTree as ET \n",
    " \n",
    "# Parse the XML file tree = ET.parse('news.xml') root = tree.getroot() \n",
    " \n",
    "for article in root.findall('article'):     title = article.find('title').text     print(\"Extracted Title:\", title) \n",
    " \n",
    "# Store the extracted title to a file with open('stored_titles.txt', 'w', encoding='utf-8') as file:     for article in root.findall('article'):         title = article.find('title').text         file.write(title + '\\n') \n"
   ]
  },
  {
   "cell_type": "code",
   "execution_count": 18,
   "id": "2ee2f385-bf27-4072-a3e6-e11e839a7f73",
   "metadata": {},
   "outputs": [
    {
     "name": "stdout",
     "output_type": "stream",
     "text": [
      "Collecting PyPDF2\n",
      "  Downloading pypdf2-3.0.1-py3-none-any.whl.metadata (6.8 kB)\n",
      "Downloading pypdf2-3.0.1-py3-none-any.whl (232 kB)\n",
      "Installing collected packages: PyPDF2\n",
      "Successfully installed PyPDF2-3.0.1\n",
      "Note: you may need to restart the kernel to use updated packages.\n"
     ]
    }
   ],
   "source": [
    "pip install PyPDF2"
   ]
  },
  {
   "cell_type": "code",
   "execution_count": 37,
   "id": "5f4e051d-f3a8-47d4-ac76-9ac577d78b09",
   "metadata": {},
   "outputs": [
    {
     "name": "stdout",
     "output_type": "stream",
     "text": [
      "Extracted PDF Text:\n",
      " Business Proposal  \n",
      "The Revolution is Coming  \n",
      "Leverage agile frameworks to provide a robust synopsis for high level  \n",
      "overviews. Iterative approaches to corporate strategy foster collaborative  \n",
      "thinking to further the overall value proposition. Organically grow the  \n",
      "holistic world view of disruptive innovation via workplace diversity and  \n",
      "empowerment.  \n",
      "Bring to the table win -win survival strategies to ensure proactive  \n",
      "domination. At the end of the day, going forward, a new normal that has  \n",
      "evolved from generation X is on the runway heading towards a streamlined  \n",
      "cloud solution. User generated content in real -time will have multi ple \n",
      "touchpoints for offshoring.  \n",
      "Capitalize on low hanging fruit to identify a ballpark value added activity to  \n",
      "beta test. Override the digital divide with additional clickthroughs from  \n",
      "DevOps. Nanotechnology immersion along the information highway will  \n",
      "close the loop on focusing solely on the bottom line.  \n",
      "Podcasting operational change management inside of workflows to  \n",
      "establish a framework. Taking seamless key performance indicators offline  \n",
      "to maximise the long tail. Keeping your eye on the ball while perfo rming a  \n",
      "deep dive on the start -up mentality to derive convergence on crossplatform  \n",
      "integration.  \n",
      "Collaboratively administrate empowered markets via plug -and-play \n",
      "networks. Dynamically procrastinate B2C users after installed base  \n",
      "benefits. Dramatically visua lize customer directed convergence without  \n",
      "revolutionary ROI.  \n",
      "Efficiently unleash cross -media information without cross -media value.  \n",
      "Quickly maximize timely deliverables for real -time schemas. Dramatically  \n",
      "maintain clicks -and-mortar solutions without funct ional solutio ns. \n",
      "  \n",
      "AUTHORS:  \n",
      "Amy Baker, Finance Chair, x345, abaker@ourcompany.com  \n",
      "Chris Donaldson, Accounting Dir., x621, cdonaldson@ourcompany.com  \n",
      "Erin Freeman, Sr. VP, x879, efreeman@ourcompany.com  \n"
     ]
    }
   ],
   "source": [
    "import PyPDF2 \n",
    " \n",
    "# Read the PDF file \n",
    "with open('Business_Proposal.pdf', 'rb') as file: \n",
    "    reader = PyPDF2.PdfReader(file)     \n",
    "    text = \"\\n\".join(page.extract_text() for page in reader.pages if page.extract_text()) \n",
    " \n",
    "# Print the extracted text \n",
    "print(\"Extracted PDF Text:\\n\", text) \n",
    " \n",
    "# Store the extracted text in a file \n",
    "with open('business_proposal_all.txt', 'w', encoding='utf-8') as output: \n",
    "    output.write(text) \n"
   ]
  },
  {
   "cell_type": "code",
   "execution_count": 61,
   "id": "9aaaf758-ad93-4bb5-8904-e658db69b372",
   "metadata": {},
   "outputs": [
    {
     "name": "stdout",
     "output_type": "stream",
     "text": [
      "Extracted PDF Text:\n",
      " AUTHORS:  \n",
      "Amy Baker, Finance Chair, x345, abaker@ourcompany.com  \n",
      "Chris Donaldson, Accounting Dir., x621, cdonaldson@ourcompany.com  \n",
      "Erin Freeman, Sr. VP, x879, efreeman@ourcompany.com  \n"
     ]
    }
   ],
   "source": [
    "import PyPDF2 \n",
    " \n",
    "# Read the PDF file \n",
    "with open('Business_Proposal.pdf', 'rb') as file: \n",
    "    reader = PyPDF2.PdfReader(file)     \n",
    "    text = \"\\n\".join(page.extract_text() for page in reader.pages if page.extract_text()) \n",
    "\n",
    "# Extract text from page 2 \n",
    "    text = reader.pages[1].extract_text() if len(reader.pages) > 1 else \"\" \n",
    "\n",
    "# Print the extracted text \n",
    "print(\"Extracted PDF Text:\\n\", text) \n",
    " \n",
    "# Store the extracted text in a file \n",
    "with open('business_proposal_page_2.txt', 'w', encoding='utf-8') as output: \n",
    "    output.write(text) \n"
   ]
  },
  {
   "cell_type": "code",
   "execution_count": 63,
   "id": "552d01b8-b4dd-48bf-8da0-346691e0bab3",
   "metadata": {},
   "outputs": [
    {
     "name": "stdout",
     "output_type": "stream",
     "text": [
      "Extracted PDF Text:\n",
      " AUTHORS:  \n",
      "Amy Baker, Finance Chair, x345, abaker@ourcompany.com  \n",
      "Chris Donaldson, Accounting Dir., x621, cdonaldson@ourcompany.com  \n",
      "Erin Freeman, Sr. VP, x879, efreeman@ourcompany.com  \n"
     ]
    }
   ],
   "source": [
    "import PyPDF2 \n",
    " \n",
    "# Read the PDF file \n",
    "with open('Business_Proposal.pdf', 'rb') as file: \n",
    "    reader = PyPDF2.PdfReader(file)     \n",
    "    page_one = reader.pages[1]\n",
    "    page_one_text = page_one.extract_text()\n",
    "    page_one_text\n",
    "\n",
    "# Print the extracted text \n",
    "print(\"Extracted PDF Text:\\n\", page_one_text) \n",
    " \n",
    "# Store the extracted text in a file \n",
    "with open('business_proposal_page_2.txt', 'w', encoding='utf-8') as output: \n",
    "    output.write(text) \n"
   ]
  },
  {
   "cell_type": "code",
   "execution_count": null,
   "id": "e4db8a36-45d4-4abe-836b-95a299c0ceba",
   "metadata": {},
   "outputs": [],
   "source": []
  }
 ],
 "metadata": {
  "kernelspec": {
   "display_name": "Python [conda env:anaconda2] *",
   "language": "python",
   "name": "conda-env-anaconda2-py"
  },
  "language_info": {
   "codemirror_mode": {
    "name": "ipython",
    "version": 3
   },
   "file_extension": ".py",
   "mimetype": "text/x-python",
   "name": "python",
   "nbconvert_exporter": "python",
   "pygments_lexer": "ipython3",
   "version": "3.12.7"
  }
 },
 "nbformat": 4,
 "nbformat_minor": 5
}
